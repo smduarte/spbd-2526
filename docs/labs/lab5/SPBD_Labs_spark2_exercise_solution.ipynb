{
  "cells": [
    {
      "cell_type": "markdown",
      "metadata": {
        "id": "view-in-github",
        "colab_type": "text"
      },
      "source": [
        "<a href=\"https://colab.research.google.com/github/smduarte/spbd-2425/blob/main/docs/labs/lab5/SPBD_Labs_spark2_exercise_solution.ipynb\" target=\"_parent\"><img src=\"https://colab.research.google.com/assets/colab-badge.svg\" alt=\"Open In Colab\"/></a>"
      ]
    },
    {
      "cell_type": "markdown",
      "metadata": {
        "id": "CtsPM1Z4HH7M"
      },
      "source": [
        "# Python Spark Dataframes Exercises\n"
      ]
    },
    {
      "cell_type": "code",
      "source": [
        "#@title Install Pyspark\n",
        "!pip install --quiet pyspark"
      ],
      "metadata": {
        "id": "BuFS4wO2B1vr"
      },
      "execution_count": null,
      "outputs": []
    },
    {
      "cell_type": "code",
      "source": [
        "#@title Download \"Os Maias\"\n",
        "!wget -q -O os_maias.txt https://www.dropbox.com/s/n24v0z7y79np319/os_maias.txt?dl=0"
      ],
      "metadata": {
        "id": "GEn0_HxQHDlx"
      },
      "execution_count": null,
      "outputs": []
    },
    {
      "cell_type": "markdown",
      "source": [
        "##1. Sorted Word Frequency\n",
        "\n",
        "1.1) Create a [Spark Dataframes](https://spark.apache.org/docs/latest/api/python/reference/pyspark.sql/index.html) program that counts the number of occurrences of each word in \"Os Maias\" novel, sorting them by frequency (the words with higher occurrence first).\n"
      ],
      "metadata": {
        "id": "f7oXYnylGyko"
      }
    },
    {
      "cell_type": "code",
      "source": [
        "from pyspark.sql import *\n",
        "from pyspark.sql.types import *\n",
        "from pyspark.sql.functions import *\n",
        "\n",
        "spark = SparkSession.builder.master('local[*]').appName('words').getOrCreate()\n",
        "sc = spark.sparkContext\n",
        "\n",
        "try :\n",
        "  lines = sc.textFile('os_maias.txt') \\\n",
        "            .filter( lambda line : len(line) > 1 )\n",
        "\n",
        "  structured_lines = lines.map( lambda line : Row( line = line, listOfWords = line.split(' ') ) )\n",
        "\n",
        "  wordsOfLine = spark.createDataFrame( structured_lines )\n",
        "\n",
        "  x = wordsOfLine.select(explode(\"listOfWords\").alias('words')) \\\n",
        "      .groupBy('words').count() \\\n",
        "      .orderBy('count', ascending=False)\n",
        "\n",
        "\n",
        "  x.show(5)\n",
        "except Exception as err:\n",
        "  print(err)\n",
        "  sc.stop()"
      ],
      "metadata": {
        "id": "qMFaHhpWHxkB"
      },
      "execution_count": null,
      "outputs": []
    },
    {
      "cell_type": "markdown",
      "source": [
        "1.2) Create a Spark Dataframes program that computes the top 10 most used words in \"Os Maias\" novel."
      ],
      "metadata": {
        "id": "UkI4QSo8Ua35"
      }
    },
    {
      "cell_type": "code",
      "source": [
        "from pyspark.sql import *\n",
        "from pyspark.sql.types import *\n",
        "from pyspark.sql.functions import *\n",
        "\n",
        "spark = SparkSession.builder.master('local[*]').appName('words').getOrCreate()\n",
        "sc = spark.sparkContext\n",
        "\n",
        "try :\n",
        "  lines = sc.textFile('os_maias.txt') \\\n",
        "            .filter( lambda line : len(line) > 1 )\n",
        "\n",
        "  structured_lines = lines.map( lambda line : Row( line = line, listOfWords = line.split(' ') ) )\n",
        "\n",
        "  wordsOfLine = spark.createDataFrame( structured_lines )\n",
        "\n",
        "  x = wordsOfLine.select(explode(\"listOfWords\").alias('words')) \\\n",
        "      .groupBy('words').count() \\\n",
        "      .orderBy('count', ascending=False) \\\n",
        "      .limit(10)\n",
        "\n",
        "\n",
        "  x.show()\n",
        "except Exception as err:\n",
        "  print(err)\n",
        "  sc.stop()"
      ],
      "metadata": {
        "id": "jocH9TZyUbMF"
      },
      "execution_count": null,
      "outputs": []
    },
    {
      "cell_type": "markdown",
      "source": [
        "##2. Weblog Analysis\n",
        "\n",
        "Consider a set of log files captured during a DDOS (*Distributed Denial of Service*) attack, containing information for the web accesses performed during the attack to the server.\n",
        "\n",
        "The log files contain text lines as shown below, with TAB as the separator:\n",
        "\n",
        "date |IP_source | status_code | operation | URL | execution time |\n",
        "-|-|-|-|-|-\n",
        "timestamp  | string | int | string | string| float |\n",
        "2016-12-06T08:58:35.318+0000|37.139.9.11|404|GET|/codemove/TTCENCUFMH3C|0.026"
      ],
      "metadata": {
        "id": "rsJZWYlHZDJL"
      }
    },
    {
      "cell_type": "code",
      "source": [
        "#@title Download the dataset\n",
        "!wget -q -O web.log https://www.dropbox.com/s/0r8902uj9yum7dg/web.log?dl=0\n",
        "!head -1 web.log\n",
        "\n",
        "!echo \"date ipSource retValue op url time\" > weblog_with_header.log\n",
        "!cat web.log >> weblog_with_header.log\n",
        "!head -2 weblog_with_header.log"
      ],
      "metadata": {
        "id": "WCWKj68qCOdA"
      },
      "execution_count": null,
      "outputs": []
    },
    {
      "cell_type": "markdown",
      "source": [
        "2.1. Count the number of unique IP addresses involved in the DDOS attack.\n"
      ],
      "metadata": {
        "id": "N1-ojIAqCftf"
      }
    },
    {
      "cell_type": "code",
      "source": [
        "from pyspark.sql import *\n",
        "from pyspark.sql.types import *\n",
        "from pyspark.sql.functions import *\n",
        "\n",
        "spark = SparkSession.builder.master('local[*]') \\\n",
        "\t\t\t\t\t\t.appName('weblog').getOrCreate()\n",
        "\n",
        "sc = spark.sparkContext\n",
        "try :\n",
        "#    linesRDD = sc.textFile('web.log')\n",
        "#    logRowsRDD = linesRDD.filter( lambda line : len(line) > 0 ) \\\n",
        "#                   .map( lambda line : line.split(' ') ) \\\n",
        "#                  .map( lambda l : Row( date = l[0], \\\n",
        "#\t\t\t\t    \t\t            ipSource = l[1], retValue = l[2], \\\n",
        "#                            op = l[3], url = l[4], time = float(l[5])))\n",
        "#    logRows = spark.createDataFrame( logRowsRDD )\n",
        "\n",
        "    logRows = spark.read.csv('weblog_with_header.log',\n",
        "                             sep =' ', header=True, inferSchema=True)\n",
        "\n",
        "    logRows.printSchema()\n",
        "\n",
        "    countIps = logRows.select('ipSource').distinct().count()\n",
        "\n",
        "    print(countIps)\n",
        "except Exception as err:\n",
        "    print(err)\n"
      ],
      "metadata": {
        "id": "Y7XoyNETChb-"
      },
      "execution_count": null,
      "outputs": []
    },
    {
      "cell_type": "markdown",
      "source": [
        "2.2. For each interval of 10 seconds, provide the following information: [number of requests, average execution time, maximum time, minimum time]"
      ],
      "metadata": {
        "id": "ZJ5TzPdACgQ-"
      }
    },
    {
      "cell_type": "code",
      "source": [
        "from pyspark.sql import *\n",
        "from pyspark.sql.types import *\n",
        "from pyspark.sql.functions import *\n",
        "import time\n",
        "\n",
        "def toInterval( date ):\n",
        "  seconds = int(date.timestamp() / 10) * 10\n",
        "  return time.strftime('%Y-%m-%d %H:%M:%S', time.gmtime(seconds))\n",
        "\n",
        "spark = SparkSession.builder.master('local[*]') \\\n",
        "\t\t\t\t\t\t.appName('weblog').getOrCreate()\n",
        "sc = spark.sparkContext\n",
        "try :\n",
        "\n",
        "    logRows = spark.read.csv('weblog_with_header.log',\n",
        "                             sep =' ', header=True, inferSchema=True)\n",
        "\n",
        "\n",
        "    interval = udf(lambda date: toInterval(date), StringType())\n",
        "\n",
        "\n",
        "    intervals = logRows.select(interval('date').alias(\"interval\"), \"time\")\n",
        "    x = intervals.groupBy('interval').agg( count('*').alias('count'), avg('time'), min('time'), max('time')) \\\n",
        "        .orderBy('interval')\n",
        "\n",
        "    x.show(10)\n",
        "except Exception as err:\n",
        "    print(err)"
      ],
      "metadata": {
        "id": "M8UVCwcdCwTG"
      },
      "execution_count": null,
      "outputs": []
    },
    {
      "cell_type": "markdown",
      "source": [
        "2.3. Create an inverted index that, for each interval of 10 seconds, has a list of (unique) IPs executing accesses (to each URL)."
      ],
      "metadata": {
        "id": "jUHmctaICgtV"
      }
    },
    {
      "cell_type": "code",
      "source": [
        "from os import truncate\n",
        "from pyspark.sql import *\n",
        "from pyspark.sql.types import *\n",
        "from pyspark.sql.functions import *\n",
        "\n",
        "def toInterval( date ):\n",
        "  seconds = int(date.timestamp() / 10) * 10\n",
        "  return time.strftime('%Y-%m-%d %H:%M:%S', time.gmtime(seconds))\n",
        "\n",
        "spark = SparkSession.builder.master('local[*]') \\\n",
        "\t\t\t\t\t\t.appName('weblog').getOrCreate()\n",
        "sc = spark.sparkContext\n",
        "try :\n",
        "    logRows = spark.read.csv('weblog_with_header.log',\n",
        "                             sep =' ', header=True, inferSchema=True)\n",
        "\n",
        "\n",
        "    countIps = udf( lambda l : len(l))\n",
        "    interval = udf(lambda date: toInterval(date), StringType())\n",
        "\n",
        "    intervals = logRows.select(interval('date').alias(\"interval\"), 'ipSource', \"url\")\n",
        "\n",
        "    stats = intervals.groupBy('interval', 'url').agg( collect_set('ipSource').alias('ips')) \\\n",
        "    .orderBy('interval', 'url', ascending=False)\n",
        "\n",
        "    stats = intervals.groupBy('interval', 'url').agg( collect_set('ipSource').alias('ips')) \\\n",
        "    .select( \"*\", countIps('ips').alias('#ips')).orderBy('interval', 'url', '#ips', ascending=False)\n",
        "\n",
        "    stats.show(10, truncate = False)\n",
        "\n",
        "    sc.stop()\n",
        "except Exception as err:\n",
        "    print(err)\n",
        "    sc.stop()"
      ],
      "metadata": {
        "id": "RpXghha0C0jC"
      },
      "execution_count": null,
      "outputs": []
    },
    {
      "cell_type": "markdown",
      "source": [
        "2.3. Create an inverted index that, for each interval of 15 seconds, has a list of (unique) IPs executing accesses (to each URL)."
      ],
      "metadata": {
        "id": "tpLWhBuRhpE-"
      }
    },
    {
      "cell_type": "code",
      "source": [
        "from pyspark.sql import *\n",
        "from pyspark.sql.types import *\n",
        "from pyspark.sql.functions import *\n",
        "\n",
        "from dateutil.parser import parse\n",
        "\n",
        "spark = SparkSession.builder.master('local[*]') \\\n",
        "\t\t\t\t\t\t.appName('weblog').getOrCreate()\n",
        "sc = spark.sparkContext\n",
        "try :\n",
        "    logRows = spark.read.csv('weblog_with_header.log',\n",
        "                             sep =' ', header=True, inferSchema=True)\n",
        "\n",
        "    # use window() to define the interval\n",
        "    intervals = logRows.select('date', 'ipSource', 'url') \\\n",
        "        .select('*', window('date', '15 seconds').alias('interval'))\n",
        "\n",
        "    stats = intervals.groupBy('interval', 'url').agg( collect_set('ipSource').alias('ips')) \\\n",
        "    .select( '*', countIps('ips').alias('#ips')).orderBy('#ips', ascending=False)\n",
        "\n",
        "    stats.show(10, truncate=False)\n",
        "\n",
        "    sc.stop()\n",
        "except Exception as err:\n",
        "    print(err)\n",
        "    sc.stop()"
      ],
      "metadata": {
        "id": "_uRu80x9mE0_"
      },
      "execution_count": null,
      "outputs": []
    }
  ],
  "metadata": {
    "kernelspec": {
      "display_name": "Python 3",
      "language": "python",
      "name": "python3"
    },
    "language_info": {
      "codemirror_mode": {
        "name": "ipython",
        "version": 3
      },
      "file_extension": ".py",
      "mimetype": "text/x-python",
      "name": "python",
      "nbconvert_exporter": "python",
      "pygments_lexer": "ipython3",
      "version": "3.7.3"
    },
    "colab": {
      "provenance": [],
      "include_colab_link": true
    }
  },
  "nbformat": 4,
  "nbformat_minor": 0
}