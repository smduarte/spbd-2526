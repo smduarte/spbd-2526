{
  "cells": [
    {
      "cell_type": "markdown",
      "metadata": {
        "id": "view-in-github",
        "colab_type": "text"
      },
      "source": [
        "<a href=\"https://colab.research.google.com/github/smduarte/spbd-2425/blob/main/docs/labs/lab2/SPBD_Labs_mapreduce2_exercise.ipynb\" target=\"_parent\"><img src=\"https://colab.research.google.com/assets/colab-badge.svg\" alt=\"Open In Colab\"/></a>"
      ]
    },
    {
      "cell_type": "markdown",
      "metadata": {
        "id": "CtsPM1Z4HH7M"
      },
      "source": [
        "# Python MapReduce Exercises\n",
        "\n",
        "##1. MrJob MapReduce Word Frequency\n",
        "\n",
        "Using the [MrJob](https://mrjob.readthedocs.io/en/latest/) library, create a map-reduce program that counts the number of occurrences of each word.\n",
        "\n",
        "a) No sorting required, words and frequency can appear in any order;\n",
        "\n",
        "b) Sorted by word, in increasing alphabetical order;\n",
        "\n",
        "c) Sorted by frequency (the words with higher occurrence first).\n",
        "\n",
        "Check the MrJob documentation to see how multi-step MapReduce jobs can\n",
        "be implemented in the same Python class.\n",
        "\n"
      ]
    },
    {
      "cell_type": "code",
      "source": [
        "#@title Download the Dataset\n",
        "!wget -q -O os_maias.txt https://www.dropbox.com/s/n24v0z7y79np319/os_maias.txt?dl=0"
      ],
      "metadata": {
        "id": "ZB6X55GwaK0n"
      },
      "execution_count": null,
      "outputs": []
    },
    {
      "cell_type": "code",
      "source": [
        "#@title Install MrJob\n",
        "!pip install mrjob --quiet\n",
        "!wget -q -O /etc/mrjob.conf https://raw.githubusercontent.com/smduarte/spbd-2425/main/scripts/mrjob.conf"
      ],
      "metadata": {
        "id": "hxQZ1Qr_ZSob"
      },
      "execution_count": null,
      "outputs": []
    },
    {
      "cell_type": "code",
      "source": [
        "%%file wordfreq.py\n",
        "#@title Exercise 1a)\n",
        "\n",
        "import string\n",
        "from mrjob.job import MRJob\n",
        "\n",
        "class MRWordFreq(MRJob):\n",
        "  def mapper(self, _, line):\n",
        "    return\n",
        "\n",
        "  def reducer(self, word, ones):\n",
        "    return\n",
        "\n",
        "if __name__ == '__main__':\n",
        "    MRWordFreq.run()"
      ],
      "metadata": {
        "colab": {
          "base_uri": "https://localhost:8080/"
        },
        "id": "0xXW5IFNZdNe",
        "outputId": "5c563af0-438e-4561-8af4-f8e7a55798c7"
      },
      "execution_count": 25,
      "outputs": [
        {
          "output_type": "stream",
          "name": "stdout",
          "text": [
            "Overwriting wordfreq.py\n"
          ]
        }
      ]
    },
    {
      "cell_type": "code",
      "source": [
        "import wordfreq\n",
        "\n",
        "import importlib\n",
        "importlib.reload(wordfreq)\n",
        "\n",
        "# prepare the mapreduce job for local execution\n",
        "mr_job = wordfreq.MRWordFreq(args=['-r', 'local','os_maias.txt'])\n",
        "\n",
        "# execute the job and print the output results\n",
        "with mr_job.make_runner() as runner:\n",
        "    runner.run()\n",
        "    for key, value in mr_job.parse_output(runner.cat_output()):\n",
        "        print( key, value)"
      ],
      "metadata": {
        "id": "9tkKbIOvZhnj"
      },
      "execution_count": 26,
      "outputs": []
    },
    {
      "cell_type": "code",
      "source": [
        "#@title Exercise 1b)"
      ],
      "metadata": {
        "id": "hTpnAjifa9tk"
      },
      "execution_count": null,
      "outputs": []
    },
    {
      "cell_type": "code",
      "source": [
        "#@title Exercise 1c)"
      ],
      "metadata": {
        "id": "QPT00N0da93K"
      },
      "execution_count": null,
      "outputs": []
    },
    {
      "cell_type": "markdown",
      "source": [
        "##2. Weblog Analysis\n",
        "\n",
        "Consider a set of log files captured during a DDOS (*Distributed Denial of Service*) attack, containing information for the web accesses performed during the attack to the server.\n",
        "\n",
        "Create a new notebook that processes the log of web entries using MrJob and map-reduce to:\n",
        "\n",
        "1. Count the number of unique IP addresses involved in the DDOS attack.\n",
        "\n",
        "2. For each interval of 10 seconds, provide the following information: [number of requests, average execution time, maximum time, minimum time]\n",
        "\n",
        "3. Create an inverted index that, for each interval of 10 seconds, has a list of (unique) IPs executing accesses (to each URL).\n",
        "\n",
        "\n",
        "The log files contain text lines as shown below, with TAB as the separator:\n",
        "\n",
        "date |IP_source | status_code | operation | URL | execution time |\n",
        "-|-|-|-|-|-\n",
        "timestamp  | string | int | string | string| float |\n",
        "2016-12-06T08:58:35.318+0000|37.139.9.11|404|GET|/codemove/TTCENCUFMH3C|0.026\n",
        "\n",
        "<br>\n",
        "The log can be downloaded from:\n",
        "\n",
        "[https://www.dropbox.com/s/0r8902uj9yum7dg/web.log?dl=0](https://www.dropbox.com/s/0r8902uj9yum7dg/web.log?dl=0)\n",
        "\n",
        "Suggestion: to start, make a copy an existing notebook and modify it.\n",
        "\n",
        "If you really must..., you can use [dateutil.parser](https://dateutil.readthedocs.io/en/stable/parser.html) for decoding timestamps."
      ],
      "metadata": {
        "id": "rsJZWYlHZDJL"
      }
    }
  ],
  "metadata": {
    "kernelspec": {
      "display_name": "Python 3",
      "language": "python",
      "name": "python3"
    },
    "language_info": {
      "codemirror_mode": {
        "name": "ipython",
        "version": 3
      },
      "file_extension": ".py",
      "mimetype": "text/x-python",
      "name": "python",
      "nbconvert_exporter": "python",
      "pygments_lexer": "ipython3",
      "version": "3.7.3"
    },
    "colab": {
      "provenance": [],
      "include_colab_link": true
    }
  },
  "nbformat": 4,
  "nbformat_minor": 0
}