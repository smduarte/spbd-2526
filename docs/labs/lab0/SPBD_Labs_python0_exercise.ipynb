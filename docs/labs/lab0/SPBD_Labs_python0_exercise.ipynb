{
  "cells": [
    {
      "cell_type": "markdown",
      "metadata": {
        "id": "CtsPM1Z4HH7M"
      },
      "source": [
        "# Lab 0 - Environment & Python Exercises\n",
        "\n",
        "##1. Word Frequency\n",
        "\n",
        "Create a notebook program that counts the number of occurrences of each word in the .\n",
        "\n",
        "a) No sorting required, words and frequency can appear in any order;\n",
        "\n",
        "b) Sorted by word, in increasing alphabetical order;\n",
        "\n",
        "c) Sorted by frequency (the words with higher occurrence first).\n"
      ]
    },
    {
      "cell_type": "code",
      "source": [
        "!wget -q -O os_maias.txt https://www.dropbox.com/s/n24v0z7y79np319/os_maias.txt?dl=0"
      ],
      "metadata": {
        "id": "a3A-X8ggvYOc"
      },
      "execution_count": 2,
      "outputs": []
    },
    {
      "cell_type": "markdown",
      "source": [
        "##2. Weblog Analysis\n",
        "\n",
        "Consider a set of log files captured during a DDOS (*Distributed Denial of Service*) attack, containing information for the web accesses performed during the attack to the server.\n",
        "\n",
        "Create a new notebook that processes the log of web entries to:\n",
        "\n",
        "a) Count the number of unique IP addresses involved in the DDOS attack.\n",
        "\n",
        "b) For each interval of 10 seconds, provide the following information: [number of requests, average execution time, maximum time, minimum time]\n",
        "\n",
        "c) Create an inverted index that, for each interval of 10 seconds, has a list of (unique) IPs executing accesses (to each URL).\n",
        "\n",
        "\n",
        "The log files contain text lines as shown below, with TAB as the separator:\n",
        "\n",
        "date |IP_source | status_code | operation | URL | execution time |\n",
        "-|-|-|-|-|-\n",
        "timestamp  | string | int | string | string| float |\n",
        "2016-12-06T08:58:35.318+0000|37.139.9.11|404|GET|/codemove/TTCENCUFMH3C|0.026\n",
        "\n",
        "<br>\n",
        "The log can be downloaded from:\n",
        "\n",
        "[https://www.dropbox.com/s/0r8902uj9yum7dg/web.log?dl=0](https://www.dropbox.com/s/0r8902uj9yum7dg/web.log?dl=0)"
      ],
      "metadata": {
        "id": "rsJZWYlHZDJL"
      }
    },
    {
      "cell_type": "code",
      "source": [
        "!wget -q -O weblog.txt https://www.dropbox.com/s/0r8902uj9yum7dg/web.log?dl=0"
      ],
      "metadata": {
        "id": "_bf25buOu7WD"
      },
      "execution_count": 3,
      "outputs": []
    }
  ],
  "metadata": {
    "kernelspec": {
      "display_name": "Python 3",
      "language": "python",
      "name": "python3"
    },
    "language_info": {
      "codemirror_mode": {
        "name": "ipython",
        "version": 3
      },
      "file_extension": ".py",
      "mimetype": "text/x-python",
      "name": "python",
      "nbconvert_exporter": "python",
      "pygments_lexer": "ipython3",
      "version": "3.7.3"
    },
    "colab": {
      "provenance": []
    }
  },
  "nbformat": 4,
  "nbformat_minor": 0
}